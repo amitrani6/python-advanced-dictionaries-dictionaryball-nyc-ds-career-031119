{
 "cells": [
  {
   "cell_type": "code",
   "execution_count": 1,
   "metadata": {},
   "outputs": [],
   "source": [
    "game_dictionary = {}\n",
    "\n",
    "def game_dict():\n",
    "    home_player1 = {'number':0 ,'shoe':16 , 'points':22 ,'rebounds':12 , 'assists':12 , 'steals':3 ,'blocks': 1, 'slam_dunks': 1}\n",
    "    home_player2 = {'number':30 ,'shoe':14 , 'points':12 ,'rebounds':12 , 'assists':12 , 'steals':12 ,'blocks':12 , 'slam_dunks': 7}\n",
    "    home_player3 = {'number':11 ,'shoe':17 , 'points':17 ,'rebounds':19 , 'assists':10 , 'steals':3 ,'blocks':1 , 'slam_dunks': 15}\n",
    "    home_player4 = {'number':1 ,'shoe':19 , 'points':26 ,'rebounds':12 , 'assists':6 , 'steals':3 ,'blocks':8 , 'slam_dunks': 5}\n",
    "    home_player5 = {'number':31 ,'shoe':15 , 'points':19 ,'rebounds':2 , 'assists':2 , 'steals':4 ,'blocks':11 , 'slam_dunks': 1}\n",
    "\n",
    "    away_player1 = {'number': 4,'shoe': 18, 'points': 10,'rebounds': 1, 'assists': 1, 'steals': 2,'blocks': 7, 'slam_dunks': 2}\n",
    "    away_player2 = {'number': 0,'shoe': 16, 'points': 12,'rebounds': 4, 'assists': 7, 'steals': 7,'blocks': 15, 'slam_dunks': 10}\n",
    "    away_player3 = {'number': 2,'shoe': 14, 'points': 24,'rebounds': 12, 'assists': 12, 'steals': 4,'blocks': 5, 'slam_dunks': 5}\n",
    "    away_player4 = {'number': 8,'shoe': 15, 'points': 33,'rebounds': 3, 'assists': 2, 'steals': 1,'blocks': 1, 'slam_dunks': 0}\n",
    "    away_player5 = {'number': 33,'shoe': 15, 'points': 6,'rebounds': 12, 'assists': 12, 'steals': 22,'blocks': 5, 'slam_dunks': 12}\n",
    "\n",
    "    game_dictionary = {\n",
    "        'home': {'team_name':'Brooklyn Nets','colors':['Black', 'White'],'players':{'Alan Anderson' : home_player1, 'Reggie Evans' : home_player2, 'Brook Lopez' : home_player3, 'Mason Plumlee' : home_player4, 'Jason Terry' : home_player5}},\n",
    "        'away': {'team_name':'Charlotte Hornets','colors':['Purple'],'players':{'Jeff Adrien' : away_player1, 'Bismak Biyombo' : away_player2, 'DeSagna Diop' : away_player3, 'Ben Gordon' : away_player4, 'Brendan Haywood' : away_player5}}\n",
    "    }\n",
    "\n",
    "    return game_dictionary\n",
    "\n",
    "game_dictionary = game_dict()\n"
   ]
  },
  {
   "cell_type": "code",
   "execution_count": 2,
   "metadata": {},
   "outputs": [],
   "source": [
    "def list_of_players(game_dictionary):\n",
    "    return list(game_dictionary['home']['players']) + list(game_dictionary['away']['players'])\n",
    "\n"
   ]
  },
  {
   "cell_type": "code",
   "execution_count": 3,
   "metadata": {},
   "outputs": [],
   "source": [
    "def home_team_name():\n",
    "  return game_dict()['home']['team_name']\n",
    "\n"
   ]
  },
  {
   "cell_type": "code",
   "execution_count": 4,
   "metadata": {},
   "outputs": [],
   "source": [
    "def away_team_name():\n",
    "  return game_dict()['away']['team_name']\n",
    "\n"
   ]
  },
  {
   "cell_type": "code",
   "execution_count": 5,
   "metadata": {},
   "outputs": [],
   "source": [
    "def home_players(game_dictionary):\n",
    "    return list(game_dictionary['home']['players'])\n",
    "\n"
   ]
  },
  {
   "cell_type": "code",
   "execution_count": 6,
   "metadata": {},
   "outputs": [],
   "source": [
    "def away_players(game_dictionary):\n",
    "    return list(game_dictionary['away']['players'])\n",
    "\n"
   ]
  },
  {
   "cell_type": "code",
   "execution_count": 7,
   "metadata": {},
   "outputs": [],
   "source": [
    "#6\n",
    "\n",
    "def find_player_dict(name, game_dictionary):\n",
    "    \n",
    "    if name in home_players(game_dictionary):\n",
    "        \n",
    "        return game_dictionary['home']['players'][name]\n",
    "    \n",
    "    elif name in away_players(game_dictionary):\n",
    "        \n",
    "        return game_dictionary['away']['players'][name]\n",
    "\n"
   ]
  },
  {
   "cell_type": "code",
   "execution_count": 8,
   "metadata": {},
   "outputs": [],
   "source": [
    "def is_home_away(team_name):\n",
    "    if game_dict()['home']['team_name']==team_name:\n",
    "        return 'home'\n",
    "    elif game_dict()['away']['team_name']==team_name:\n",
    "        return 'away'\n",
    "    else: \n",
    "        return None\n",
    "    "
   ]
  },
  {
   "cell_type": "code",
   "execution_count": 9,
   "metadata": {},
   "outputs": [],
   "source": [
    "#1 \n",
    "def num_points_scored(name):\n",
    "    return find_player_dict(name, game_dictionary)['points']\n",
    "\n",
    "#2\n",
    "def shoe_size(name):\n",
    "    return find_player_dict(name, game_dictionary)['shoe']\n",
    "\n",
    "#3\n",
    "\n",
    "def team_colors(team_name):\n",
    "    return game_dict()[is_home_away(team_name)]['colors']\n",
    "\n",
    "#4\n",
    "\n",
    "def team_names():\n",
    "    return [game_dict()['home']['team_name']] + [game_dict()['away']['team_name']]"
   ]
  },
  {
   "cell_type": "code",
   "execution_count": 10,
   "metadata": {},
   "outputs": [],
   "source": [
    "def jersey_number(team_name):\n",
    "    \n",
    "    jnums=[]\n",
    "    players = away_players(game_dictionary)\n",
    "    \n",
    "    if team_name == game_dictionary['home']['team_name']:\n",
    "        players = home_players(game_dictionary)\n",
    "    \n",
    "    \n",
    "    return list(map(lambda player: find_player_dict(player, game_dictionary)['number'], players))\n",
    "    \n",
    " \n",
    "        "
   ]
  },
  {
   "cell_type": "code",
   "execution_count": 11,
   "metadata": {},
   "outputs": [],
   "source": [
    "#6\n",
    "def player_stats(name):\n",
    "    \n",
    "    return find_player_dict(name, game_dictionary)\n",
    "\n",
    "   "
   ]
  },
  {
   "cell_type": "code",
   "execution_count": 12,
   "metadata": {},
   "outputs": [],
   "source": [
    "def big_shoe_rebounds(players):\n",
    "    player_and_shoes = []\n",
    "    shoe_size = []\n",
    "    \n",
    "    \n",
    "    for player in players:\n",
    "        player_and_shoes.append([player, player_stats(player)['shoe'], player_stats(player)['rebounds']])\n",
    "        shoe_size.append(player_stats(player)['shoe'])\n",
    "    \n",
    "    big_shoe_reb = list(filter(lambda p: p[1]==max(shoe_size), player_and_shoes))\n",
    "    \n",
    "    return print(list(map(lambda p: 'Player {} has a shoe size of {} and has {} rebounds.'.format(p[0], p[1], p[2]), big_shoe_reb)))\n",
    "    \n",
    "\n",
    "\n",
    "    \n",
    "\n",
    "    "
   ]
  },
  {
   "cell_type": "code",
   "execution_count": 13,
   "metadata": {},
   "outputs": [],
   "source": [
    "def most_points_scored(players):\n",
    "    player_and_points = []\n",
    "    points = []\n",
    "    \n",
    "    for player in players:\n",
    "        player_and_points.append([player, player_stats(player)['points']])\n",
    "        points.append(player_stats(player)['points'])\n",
    "    \n",
    "    top_points = list(filter(lambda p: p[1]==max(points), player_and_points))\n",
    "    \n",
    "    return print(list(map(lambda p: 'Player {} has the top point score of {}.'.format(p[0], p[1]), top_points)))\n",
    "\n"
   ]
  },
  {
   "cell_type": "code",
   "execution_count": 14,
   "metadata": {},
   "outputs": [],
   "source": [
    "def sum_numeric_stat(stat, team_name, game_dictionary):\n",
    "    \n",
    "    home_or_away = is_home_away(team_name)\n",
    "    players = []\n",
    "    \n",
    "    if type(stat) != str:\n",
    "        return(\"This function only sums numbers.\")\n",
    "    \n",
    "    if home_or_away == 'home':\n",
    "        players = home_players(game_dictionary)\n",
    "    \n",
    "    elif home_or_away == 'away':\n",
    "        players = away_players(game_dictionary)\n",
    "    \n",
    "    return sum(list(map(lambda player: game_dictionary[home_or_away]['players'][player][stat], players)))\n",
    "    \n",
    "  "
   ]
  },
  {
   "cell_type": "code",
   "execution_count": 15,
   "metadata": {},
   "outputs": [],
   "source": [
    "def winning_team(game_dictionary):\n",
    "    home_score = sum_numeric_stat('points', home_team_name(), game_dictionary)\n",
    "    away_score = sum_numeric_stat('points', away_team_name(), game_dictionary)\n",
    "    \n",
    "    if home_score > away_score:\n",
    "        return home_team_name()\n",
    "    elif home_score < away_score:\n",
    "        return away_team_name()\n",
    "    else:\n",
    "        return 'tie'\n",
    "    \n"
   ]
  },
  {
   "cell_type": "code",
   "execution_count": 16,
   "metadata": {},
   "outputs": [],
   "source": [
    "def player_with_longest_name(players):\n",
    "    player_and_char = []\n",
    "    chars = []\n",
    "    \n",
    "    for player in players:\n",
    "        player_and_char.append([player, len(player)-1])\n",
    "        chars.append(len(player)-1)\n",
    "    \n",
    "    return list(filter(lambda p: p[1]==max(chars), player_and_char))\n",
    "    \n"
   ]
  },
  {
   "cell_type": "code",
   "execution_count": 17,
   "metadata": {},
   "outputs": [],
   "source": [
    "def find_top_steals(players):\n",
    "    player_and_steals = []\n",
    "    steals = []\n",
    "    \n",
    "    for player in players:\n",
    "        player_and_steals.append([player, player_stats(player)['steals']])\n",
    "        steals.append(player_stats(player)['steals'])\n",
    "    \n",
    "    top_steals = list(filter(lambda p: p[1]==max(steals), player_and_steals))\n",
    "    \n",
    "    return top_steals\n"
   ]
  },
  {
   "cell_type": "code",
   "execution_count": 18,
   "metadata": {},
   "outputs": [],
   "source": [
    "def long_name_steals_a_ton(players):\n",
    "    max_steals= find_top_steals(players)[0][1]\n",
    "    max_length= player_with_longest_name(players)[0][1]+1\n",
    "    \n",
    "    for player in players:\n",
    "        if len(player)== max_length and find_player_dict(player, game_dictionary)['steals']==max_steals:\n",
    "            \n",
    "            return True\n",
    "        \n",
    "    else:\n",
    "        return False"
   ]
  },
  {
   "cell_type": "code",
   "execution_count": null,
   "metadata": {},
   "outputs": [],
   "source": []
  },
  {
   "cell_type": "code",
   "execution_count": null,
   "metadata": {},
   "outputs": [],
   "source": []
  }
 ],
 "metadata": {
  "kernelspec": {
   "display_name": "Python 3",
   "language": "python",
   "name": "python3"
  },
  "language_info": {
   "codemirror_mode": {
    "name": "ipython",
    "version": 3
   },
   "file_extension": ".py",
   "mimetype": "text/x-python",
   "name": "python",
   "nbconvert_exporter": "python",
   "pygments_lexer": "ipython3",
   "version": "3.7.2"
  }
 },
 "nbformat": 4,
 "nbformat_minor": 2
}
