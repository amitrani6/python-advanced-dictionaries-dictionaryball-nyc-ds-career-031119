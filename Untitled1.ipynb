{
 "cells": [
  {
   "cell_type": "code",
   "execution_count": 13,
   "metadata": {},
   "outputs": [
    {
     "data": {
      "text/plain": [
       "{'home': {'team_name': 'Brooklyn Nets',\n",
       "  'colors': ['Black', 'White'],\n",
       "  'players': {'Alan Anderson': {'number': 0,\n",
       "    'shoe': 16,\n",
       "    'points': 22,\n",
       "    'rebounds': 12,\n",
       "    'assists': 12,\n",
       "    'steals': 3,\n",
       "    'blocks': 1,\n",
       "    'slam_dunks': 1},\n",
       "   'Reggie Evans': {'number': 30,\n",
       "    'shoe': 14,\n",
       "    'points': 12,\n",
       "    'rebounds': 12,\n",
       "    'assists': 12,\n",
       "    'steals': 12,\n",
       "    'blocks': 12,\n",
       "    'slam_dunks': 7},\n",
       "   'Brook Lopez': {'number': 11,\n",
       "    'shoe': 17,\n",
       "    'points': 17,\n",
       "    'rebounds': 19,\n",
       "    'assists': 10,\n",
       "    'steals': 3,\n",
       "    'blocks': 1,\n",
       "    'slam_dunks': 15},\n",
       "   'Mason Plumlee': {'number': 1,\n",
       "    'shoe': 19,\n",
       "    'points': 26,\n",
       "    'rebounds': 12,\n",
       "    'assists': 6,\n",
       "    'steals': 3,\n",
       "    'blocks': 8,\n",
       "    'slam_dunks': 5},\n",
       "   'Jason Terry': 'home_player5'}},\n",
       " 'away': {'team_name': 'Charlotte Hornets',\n",
       "  'colors': ['Purple'],\n",
       "  'players': {'Jeff Adrien': {'number': 4,\n",
       "    'shoe': 18,\n",
       "    'points': 10,\n",
       "    'rebounds': 1,\n",
       "    'assists': 1,\n",
       "    'steals': 2,\n",
       "    'blocks': 7,\n",
       "    'slam_dunks': 2},\n",
       "   'Bismak Biyombo': {'number': 0,\n",
       "    'shoe': 16,\n",
       "    'points': 12,\n",
       "    'rebounds': 4,\n",
       "    'assists': 7,\n",
       "    'steals': 7,\n",
       "    'blocks': 15,\n",
       "    'slam_dunks': 10},\n",
       "   'DeSagna Diop': {'number': 2,\n",
       "    'shoe': 14,\n",
       "    'points': 24,\n",
       "    'rebounds': 12,\n",
       "    'assists': 12,\n",
       "    'steals': 4,\n",
       "    'blocks': 5,\n",
       "    'slam_dunks': 5},\n",
       "   'Ben Gordon': {'number': 8,\n",
       "    'shoe': 15,\n",
       "    'points': 33,\n",
       "    'rebounds': 3,\n",
       "    'assists': 2,\n",
       "    'steals': 1,\n",
       "    'blocks': 1,\n",
       "    'slam_dunks': 0},\n",
       "   'Brendan Haywood': {'number': 33,\n",
       "    'shoe': 15,\n",
       "    'points': 6,\n",
       "    'rebounds': 12,\n",
       "    'assists': 12,\n",
       "    'steals': 22,\n",
       "    'blocks': 5,\n",
       "    'slam_dunks': 12}}}}"
      ]
     },
     "execution_count": 13,
     "metadata": {},
     "output_type": "execute_result"
    }
   ],
   "source": [
    "game_dictionary = {}\n",
    "\n",
    "def game_dict():\n",
    "    home_player1 = {'number':0 ,'shoe':16 , 'points':22 ,'rebounds':12 , 'assists':12 , 'steals':3 ,'blocks': 1, 'slam_dunks': 1}\n",
    "    home_player2 = {'number':30 ,'shoe':14 , 'points':12 ,'rebounds':12 , 'assists':12 , 'steals':12 ,'blocks':12 , 'slam_dunks': 7}\n",
    "    home_player3 = {'number':11 ,'shoe':17 , 'points':17 ,'rebounds':19 , 'assists':10 , 'steals':3 ,'blocks':1 , 'slam_dunks': 15}\n",
    "    home_player4 = {'number':1 ,'shoe':19 , 'points':26 ,'rebounds':12 , 'assists':6 , 'steals':3 ,'blocks':8 , 'slam_dunks': 5}\n",
    "    home_player5 = {'number':31 ,'shoe':15 , 'points':19 ,'rebounds':2 , 'assists':2 , 'steals':4 ,'blocks':11 , 'slam_dunks': 1}\n",
    "\n",
    "    away_player1 = {'number': 4,'shoe': 18, 'points': 10,'rebounds': 1, 'assists': 1, 'steals': 2,'blocks': 7, 'slam_dunks': 2}\n",
    "    away_player2 = {'number': 0,'shoe': 16, 'points': 12,'rebounds': 4, 'assists': 7, 'steals': 7,'blocks': 15, 'slam_dunks': 10}\n",
    "    away_player3 = {'number': 2,'shoe': 14, 'points': 24,'rebounds': 12, 'assists': 12, 'steals': 4,'blocks': 5, 'slam_dunks': 5}\n",
    "    away_player4 = {'number': 8,'shoe': 15, 'points': 33,'rebounds': 3, 'assists': 2, 'steals': 1,'blocks': 1, 'slam_dunks': 0}\n",
    "    away_player5 = {'number': 33,'shoe': 15, 'points': 6,'rebounds': 12, 'assists': 12, 'steals': 22,'blocks': 5, 'slam_dunks': 12}\n",
    "\n",
    "    game_dictionary = {\n",
    "        'home': {'team_name':'Brooklyn Nets','colors':['Black', 'White'],'players':{'Alan Anderson' : home_player1, 'Reggie Evans' : home_player2, 'Brook Lopez' : home_player3, 'Mason Plumlee' : home_player4, 'Jason Terry' : 'home_player5'}},\n",
    "        'away': {'team_name':'Charlotte Hornets','colors':['Purple'],'players':{'Jeff Adrien' : away_player1, 'Bismak Biyombo' : away_player2, 'DeSagna Diop' : away_player3, 'Ben Gordon' : away_player4, 'Brendan Haywood' : away_player5}}\n",
    "    }\n",
    "\n",
    "    return game_dictionary\n",
    "\n",
    "game_dictionary = game_dict()\n",
    "game_dictionary"
   ]
  },
  {
   "cell_type": "code",
   "execution_count": 17,
   "metadata": {},
   "outputs": [
    {
     "data": {
      "text/plain": [
       "['Alan Anderson',\n",
       " 'Reggie Evans',\n",
       " 'Brook Lopez',\n",
       " 'Mason Plumlee',\n",
       " 'Jason Terry',\n",
       " 'Jeff Adrien',\n",
       " 'Bismak Biyombo',\n",
       " 'DeSagna Diop',\n",
       " 'Ben Gordon',\n",
       " 'Brendan Haywood']"
      ]
     },
     "execution_count": 17,
     "metadata": {},
     "output_type": "execute_result"
    }
   ],
   "source": [
    "def list_of_players(game_dictionary):\n",
    "    return list(game_dictionary['home']['players']) + list(game_dictionary['away']['players'])\n",
    "\n",
    "all_players = list_of_players(game_dictionary)\n",
    "all_players"
   ]
  },
  {
   "cell_type": "code",
   "execution_count": null,
   "metadata": {},
   "outputs": [],
   "source": []
  }
 ],
 "metadata": {
  "kernelspec": {
   "display_name": "Python 3",
   "language": "python",
   "name": "python3"
  },
  "language_info": {
   "codemirror_mode": {
    "name": "ipython",
    "version": 3
   },
   "file_extension": ".py",
   "mimetype": "text/x-python",
   "name": "python",
   "nbconvert_exporter": "python",
   "pygments_lexer": "ipython3",
   "version": "3.7.2"
  }
 },
 "nbformat": 4,
 "nbformat_minor": 2
}
